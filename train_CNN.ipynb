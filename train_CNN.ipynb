{
 "cells": [
  {
   "cell_type": "code",
   "execution_count": 1,
   "id": "05b10fe4",
   "metadata": {},
   "outputs": [],
   "source": [
    "import json\n",
    "import os\n",
    "from distutils.dir_util import copy_tree\n",
    "import shutil\n",
    "import pandas as pd\n",
    "import tensorflow as tf\n",
    "from tensorflow.keras import backend as K\n"
   ]
  },
  {
   "cell_type": "code",
   "execution_count": 2,
   "id": "8ff5ee9e",
   "metadata": {},
   "outputs": [],
   "source": [
    "\n",
    "from tensorflow.keras.preprocessing.image import ImageDataGenerator\n",
    "from tensorflow.keras import applications\n",
    "from efficientnet.tfkeras import EfficientNetB0 #EfficientNetB1, EfficientNetB2, EfficientNetB3, EfficientNetB4, EfficientNetB5, EfficientNetB6, EfficientNetB7\n",
    "from tensorflow.keras.models import Sequential\n",
    "from tensorflow.keras.layers import Dense, Dropout, Flatten\n",
    "from tensorflow.keras.optimizers import Adam\n",
    "from tensorflow.keras.callbacks import EarlyStopping, ModelCheckpoint\n",
    "from tensorflow.keras.models import load_model"
   ]
  },
  {
   "cell_type": "code",
   "execution_count": 3,
   "id": "f4554fd2",
   "metadata": {},
   "outputs": [],
   "source": [
    "dataset_path = './split_dataset/'\n",
    "\n",
    "def get_filename_only(file_path):\n",
    "    file_basename = os.path.basename(file_path)\n",
    "    filename_only = file_basename.split('.')[0]\n",
    "    return filename_only"
   ]
  },
  {
   "cell_type": "code",
   "execution_count": 4,
   "id": "5696fad7",
   "metadata": {},
   "outputs": [
    {
     "name": "stdout",
     "output_type": "stream",
     "text": [
      "Found 1632 images belonging to 2 classes.\n",
      "Found 204 images belonging to 2 classes.\n",
      "Found 205 images belonging to 2 classes.\n"
     ]
    }
   ],
   "source": [
    "input_size = 128\n",
    "batch_size_num = 32\n",
    "train_path = os.path.join(dataset_path, 'train')\n",
    "val_path = os.path.join(dataset_path, 'val')\n",
    "test_path = os.path.join(dataset_path, 'test')\n",
    "\n",
    "train_datagen = ImageDataGenerator(\n",
    "    rescale = 1/255,    #rescale the tensor values to [0,1]\n",
    "    rotation_range = 10,\n",
    "    width_shift_range = 0.1,\n",
    "    height_shift_range = 0.1,\n",
    "    shear_range = 0.2,\n",
    "    zoom_range = 0.1,\n",
    "    horizontal_flip = True,\n",
    "    fill_mode = 'nearest'\n",
    ")\n",
    "\n",
    "train_generator = train_datagen.flow_from_directory(\n",
    "    directory = train_path,\n",
    "    target_size = (input_size, input_size),\n",
    "    color_mode = \"rgb\",\n",
    "    class_mode = \"binary\",  #\"categorical\", \"binary\", \"sparse\", \"input\"\n",
    "    batch_size = batch_size_num,\n",
    "    shuffle = True\n",
    "    #save_to_dir = tmp_debug_path\n",
    ")\n",
    "\n",
    "val_datagen = ImageDataGenerator(\n",
    "    rescale = 1/255    #rescale the tensor values to [0,1]\n",
    ")\n",
    "\n",
    "val_generator = val_datagen.flow_from_directory(\n",
    "    directory = val_path,\n",
    "    target_size = (input_size, input_size),\n",
    "    color_mode = \"rgb\",\n",
    "    class_mode = \"binary\",  #\"categorical\", \"binary\", \"sparse\", \"input\"\n",
    "    batch_size = batch_size_num,\n",
    "    shuffle = True\n",
    "    #save_to_dir = tmp_debug_path\n",
    ")\n",
    "\n",
    "test_datagen = ImageDataGenerator(\n",
    "    rescale = 1/255    #rescale the tensor values to [0,1]\n",
    ")\n",
    "\n",
    "test_generator = test_datagen.flow_from_directory(\n",
    "    directory = test_path,\n",
    "    classes=['real', 'fake'],\n",
    "    target_size = (input_size, input_size),\n",
    "    color_mode = \"rgb\",\n",
    "    class_mode = None,\n",
    "    batch_size = 1,\n",
    "    shuffle = False\n",
    ")"
   ]
  },
  {
   "cell_type": "code",
   "execution_count": 14,
   "id": "e45e99ae",
   "metadata": {},
   "outputs": [
    {
     "name": "stderr",
     "output_type": "stream",
     "text": [
      "WARNING:absl:`lr` is deprecated, please use `learning_rate` instead, or use the legacy optimizer, e.g.,tf.keras.optimizers.legacy.Adam.\n"
     ]
    },
    {
     "name": "stdout",
     "output_type": "stream",
     "text": [
      "Epoch 1/10\n",
      "51/51 [==============================] - 80s 1s/step - loss: 0.8304 - accuracy: 0.6820 - val_loss: 0.7616 - val_accuracy: 0.5980\n",
      "Epoch 2/10\n",
      "51/51 [==============================] - 56s 1s/step - loss: 0.5150 - accuracy: 0.7543 - val_loss: 0.6638 - val_accuracy: 0.7010\n",
      "Epoch 3/10\n",
      "51/51 [==============================] - 55s 1s/step - loss: 0.5008 - accuracy: 0.7727 - val_loss: 0.6363 - val_accuracy: 0.7010\n",
      "Epoch 4/10\n",
      "51/51 [==============================] - 58s 1s/step - loss: 0.4667 - accuracy: 0.7819 - val_loss: 0.6530 - val_accuracy: 0.6863\n",
      "Epoch 5/10\n",
      "51/51 [==============================] - 55s 1s/step - loss: 0.4624 - accuracy: 0.7825 - val_loss: 0.6421 - val_accuracy: 0.7206\n",
      "Epoch 6/10\n",
      "51/51 [==============================] - 57s 1s/step - loss: 0.4322 - accuracy: 0.8015 - val_loss: 0.6692 - val_accuracy: 0.7059\n",
      "Epoch 7/10\n",
      "51/51 [==============================] - 55s 1s/step - loss: 0.4289 - accuracy: 0.8039 - val_loss: 0.6768 - val_accuracy: 0.7059\n",
      "Epoch 8/10\n",
      "51/51 [==============================] - 56s 1s/step - loss: 0.4224 - accuracy: 0.8150 - val_loss: 0.6480 - val_accuracy: 0.7206\n",
      "Epoch 9/10\n",
      "51/51 [==============================] - 58s 1s/step - loss: 0.4332 - accuracy: 0.7929 - val_loss: 0.6067 - val_accuracy: 0.7255\n",
      "Epoch 10/10\n",
      "51/51 [==============================] - 53s 1s/step - loss: 0.3805 - accuracy: 0.8199 - val_loss: 0.7383 - val_accuracy: 0.7157\n",
      "Model: \"sequential_2\"\n",
      "_________________________________________________________________\n",
      " Layer (type)                Output Shape              Param #   \n",
      "=================================================================\n",
      " efficientnet-b0 (Functional  (None, 1280)             4049564   \n",
      " )                                                               \n",
      "                                                                 \n",
      " dense_8 (Dense)             (None, 512)               655872    \n",
      "                                                                 \n",
      " dropout_4 (Dropout)         (None, 512)               0         \n",
      "                                                                 \n",
      " dense_9 (Dense)             (None, 128)               65664     \n",
      "                                                                 \n",
      " dropout_5 (Dropout)         (None, 128)               0         \n",
      "                                                                 \n",
      " dense_10 (Dense)            (None, 64)                8256      \n",
      "                                                                 \n",
      " dense_11 (Dense)            (None, 1)                 65        \n",
      "                                                                 \n",
      "=================================================================\n",
      "Total params: 4,779,421\n",
      "Trainable params: 729,857\n",
      "Non-trainable params: 4,049,564\n",
      "_________________________________________________________________\n"
     ]
    }
   ],
   "source": [
    "# Train a CNN classifier\n",
    "efficient_net = EfficientNetB0(\n",
    "    weights = 'imagenet',\n",
    "    input_shape = (input_size, input_size, 3),\n",
    "    include_top = False,\n",
    "    pooling = 'max'\n",
    ")\n",
    "\n",
    "\n",
    "\n",
    "model = Sequential()\n",
    "model.add(efficient_net)\n",
    "model.add(Dense(units = 512, activation = 'relu'))\n",
    "model.add(Dropout(0.5))\n",
    "model.add(Dense(units = 128, activation = 'relu'))\n",
    "model.add(Dropout(0.5))\n",
    "model.add(Dense(units = 64,activation='relu'))\n",
    "model.add(Dense(units = 1, activation = 'sigmoid'))\n",
    "model.add(Flatten())\n",
    "\n",
    "model.summary()\n",
    "\n"
   ]
  },
  {
   "cell_type": "code",
   "execution_count": 15,
   "id": "b2da0dd9",
   "metadata": {},
   "outputs": [
    {
     "data": {
      "text/plain": [
       "{'fake': 0, 'real': 1}"
      ]
     },
     "execution_count": 15,
     "metadata": {},
     "output_type": "execute_result"
    }
   ],
   "source": [
    "train_generator.class_indices"
   ]
  },
  {
   "cell_type": "code",
   "execution_count": 16,
   "id": "15eff94d",
   "metadata": {},
   "outputs": [
    {
     "name": "stdout",
     "output_type": "stream",
     "text": [
      "Creating Directory: .\\tmp_checkpoint\n",
      "Epoch 1/20\n",
      "51/51 [==============================] - ETA: 0s - loss: 0.4000 - accuracy: 0.8370\n",
      "Epoch 1: val_loss improved from inf to 0.70821, saving model to .\\tmp_checkpoint\\best_model.h5\n",
      "51/51 [==============================] - 81s 1s/step - loss: 0.4000 - accuracy: 0.8370 - val_loss: 0.7082 - val_accuracy: 0.7108\n",
      "Epoch 2/20\n",
      "51/51 [==============================] - ETA: 0s - loss: 0.4121 - accuracy: 0.8297\n",
      "Epoch 2: val_loss improved from 0.70821 to 0.68855, saving model to .\\tmp_checkpoint\\best_model.h5\n",
      "51/51 [==============================] - 55s 1s/step - loss: 0.4121 - accuracy: 0.8297 - val_loss: 0.6886 - val_accuracy: 0.7157\n",
      "Epoch 3/20\n",
      "51/51 [==============================] - ETA: 0s - loss: 0.3764 - accuracy: 0.8297\n",
      "Epoch 3: val_loss did not improve from 0.68855\n",
      "51/51 [==============================] - 54s 1s/step - loss: 0.3764 - accuracy: 0.8297 - val_loss: 0.6950 - val_accuracy: 0.7059\n",
      "Epoch 4/20\n",
      "51/51 [==============================] - ETA: 0s - loss: 0.3792 - accuracy: 0.8431\n",
      "Epoch 4: val_loss improved from 0.68855 to 0.67923, saving model to .\\tmp_checkpoint\\best_model.h5\n",
      "51/51 [==============================] - 56s 1s/step - loss: 0.3792 - accuracy: 0.8431 - val_loss: 0.6792 - val_accuracy: 0.7255\n",
      "Epoch 5/20\n",
      "51/51 [==============================] - ETA: 0s - loss: 0.3838 - accuracy: 0.8113\n",
      "Epoch 5: val_loss did not improve from 0.67923\n",
      "51/51 [==============================] - 60s 1s/step - loss: 0.3838 - accuracy: 0.8113 - val_loss: 0.6931 - val_accuracy: 0.7206\n",
      "Epoch 6/20\n",
      "51/51 [==============================] - ETA: 0s - loss: 0.3740 - accuracy: 0.8382\n",
      "Epoch 6: val_loss did not improve from 0.67923\n",
      "51/51 [==============================] - 71s 1s/step - loss: 0.3740 - accuracy: 0.8382 - val_loss: 0.7102 - val_accuracy: 0.7059\n",
      "Epoch 7/20\n",
      "51/51 [==============================] - ETA: 0s - loss: 0.3678 - accuracy: 0.8278\n",
      "Epoch 7: val_loss did not improve from 0.67923\n",
      "51/51 [==============================] - 72s 1s/step - loss: 0.3678 - accuracy: 0.8278 - val_loss: 0.6894 - val_accuracy: 0.6961\n",
      "Epoch 8/20\n",
      "51/51 [==============================] - ETA: 0s - loss: 0.3860 - accuracy: 0.8395\n",
      "Epoch 8: val_loss improved from 0.67923 to 0.67044, saving model to .\\tmp_checkpoint\\best_model.h5\n",
      "51/51 [==============================] - 77s 1s/step - loss: 0.3860 - accuracy: 0.8395 - val_loss: 0.6704 - val_accuracy: 0.7108\n",
      "Epoch 9/20\n",
      "51/51 [==============================] - ETA: 0s - loss: 0.3889 - accuracy: 0.8241\n",
      "Epoch 9: val_loss improved from 0.67044 to 0.66143, saving model to .\\tmp_checkpoint\\best_model.h5\n",
      "51/51 [==============================] - 71s 1s/step - loss: 0.3889 - accuracy: 0.8241 - val_loss: 0.6614 - val_accuracy: 0.7108\n",
      "Epoch 10/20\n",
      "51/51 [==============================] - ETA: 0s - loss: 0.3785 - accuracy: 0.8241\n",
      "Epoch 10: val_loss did not improve from 0.66143\n",
      "51/51 [==============================] - 56s 1s/step - loss: 0.3785 - accuracy: 0.8241 - val_loss: 0.6815 - val_accuracy: 0.7157\n",
      "Epoch 11/20\n",
      "51/51 [==============================] - ETA: 0s - loss: 0.3663 - accuracy: 0.8401\n",
      "Epoch 11: val_loss did not improve from 0.66143\n",
      "51/51 [==============================] - 59s 1s/step - loss: 0.3663 - accuracy: 0.8401 - val_loss: 0.6933 - val_accuracy: 0.7157\n",
      "Epoch 12/20\n",
      "51/51 [==============================] - ETA: 0s - loss: 0.3772 - accuracy: 0.8370\n",
      "Epoch 12: val_loss did not improve from 0.66143\n",
      "51/51 [==============================] - 68s 1s/step - loss: 0.3772 - accuracy: 0.8370 - val_loss: 0.6722 - val_accuracy: 0.7157\n",
      "Epoch 13/20\n",
      "51/51 [==============================] - ETA: 0s - loss: 0.3702 - accuracy: 0.8315\n",
      "Epoch 13: val_loss did not improve from 0.66143\n",
      "51/51 [==============================] - 70s 1s/step - loss: 0.3702 - accuracy: 0.8315 - val_loss: 0.6881 - val_accuracy: 0.7255\n",
      "Epoch 14/20\n",
      "51/51 [==============================] - ETA: 0s - loss: 0.3772 - accuracy: 0.8352\n",
      "Epoch 14: val_loss improved from 0.66143 to 0.66023, saving model to .\\tmp_checkpoint\\best_model.h5\n",
      "51/51 [==============================] - 60s 1s/step - loss: 0.3772 - accuracy: 0.8352 - val_loss: 0.6602 - val_accuracy: 0.7206\n",
      "Epoch 15/20\n",
      "51/51 [==============================] - ETA: 0s - loss: 0.3897 - accuracy: 0.8303\n",
      "Epoch 15: val_loss improved from 0.66023 to 0.65890, saving model to .\\tmp_checkpoint\\best_model.h5\n",
      "51/51 [==============================] - 55s 1s/step - loss: 0.3897 - accuracy: 0.8303 - val_loss: 0.6589 - val_accuracy: 0.7304\n",
      "Epoch 16/20\n",
      "51/51 [==============================] - ETA: 0s - loss: 0.3888 - accuracy: 0.8284\n",
      "Epoch 16: val_loss did not improve from 0.65890\n",
      "51/51 [==============================] - 50s 984ms/step - loss: 0.3888 - accuracy: 0.8284 - val_loss: 0.6644 - val_accuracy: 0.7206\n",
      "Epoch 17/20\n",
      "51/51 [==============================] - ETA: 0s - loss: 0.3563 - accuracy: 0.8352\n",
      "Epoch 17: val_loss did not improve from 0.65890\n",
      "51/51 [==============================] - 50s 980ms/step - loss: 0.3563 - accuracy: 0.8352 - val_loss: 0.6598 - val_accuracy: 0.7353\n",
      "Epoch 18/20\n",
      "51/51 [==============================] - ETA: 0s - loss: 0.3864 - accuracy: 0.8339\n",
      "Epoch 18: val_loss did not improve from 0.65890\n",
      "51/51 [==============================] - 50s 968ms/step - loss: 0.3864 - accuracy: 0.8339 - val_loss: 0.6688 - val_accuracy: 0.7353\n",
      "Epoch 19/20\n",
      "51/51 [==============================] - ETA: 0s - loss: 0.3765 - accuracy: 0.8321\n",
      "Epoch 19: val_loss did not improve from 0.65890\n",
      "51/51 [==============================] - 46s 899ms/step - loss: 0.3765 - accuracy: 0.8321 - val_loss: 0.6671 - val_accuracy: 0.7206\n",
      "Epoch 20/20\n",
      "51/51 [==============================] - ETA: 0s - loss: 0.3775 - accuracy: 0.8272\n",
      "Epoch 20: val_loss did not improve from 0.65890\n",
      "51/51 [==============================] - 51s 990ms/step - loss: 0.3775 - accuracy: 0.8272 - val_loss: 0.6770 - val_accuracy: 0.7255\n",
      "Epoch 20: early stopping\n"
     ]
    }
   ],
   "source": [
    "# Compile model\n",
    "model.compile(optimizer = Adam(learning_rate=0.0001), loss='binary_crossentropy', metrics=['accuracy'])\n",
    "\n",
    "checkpoint_filepath = '.\\\\tmp_checkpoint'\n",
    "print('Creating Directory: ' + checkpoint_filepath)\n",
    "os.makedirs(checkpoint_filepath, exist_ok=True)\n",
    "\n",
    "custom_callbacks = [\n",
    "    EarlyStopping(\n",
    "        monitor = 'val_loss',\n",
    "        mode = 'min',\n",
    "        patience = 5,\n",
    "        verbose = 1\n",
    "    ),\n",
    "    ModelCheckpoint(\n",
    "        filepath = os.path.join(checkpoint_filepath, 'best_model.h5'),\n",
    "        monitor = 'val_loss',\n",
    "        mode = 'min',\n",
    "        verbose = 1,\n",
    "        save_best_only = True\n",
    "    )\n",
    "]\n",
    "\n",
    "# Train network\n",
    "num_epochs = 20\n",
    "history = model.fit(\n",
    "    train_generator,\n",
    "    epochs = num_epochs,\n",
    "    steps_per_epoch = len(train_generator),\n",
    "    validation_data = val_generator,\n",
    "    validation_steps = len(val_generator),\n",
    "    callbacks = custom_callbacks\n",
    ")\n",
    "\n",
    "# print(history.history)"
   ]
  },
  {
   "cell_type": "code",
   "execution_count": 17,
   "id": "22456e9b",
   "metadata": {},
   "outputs": [
    {
     "name": "stdout",
     "output_type": "stream",
     "text": [
      "51/51 [==============================] - 43s 827ms/step - loss: 0.3372 - accuracy: 0.8640\n"
     ]
    },
    {
     "data": {
      "text/plain": [
       "[0.33723199367523193, 0.8639705777168274]"
      ]
     },
     "execution_count": 17,
     "metadata": {},
     "output_type": "execute_result"
    }
   ],
   "source": [
    "model.evaluate(train_generator)"
   ]
  },
  {
   "cell_type": "code",
   "execution_count": 10,
   "id": "5065999b",
   "metadata": {},
   "outputs": [
    {
     "name": "stdout",
     "output_type": "stream",
     "text": [
      "7/7 [==============================] - 5s 651ms/step - loss: 0.6675 - accuracy: 0.6863\n"
     ]
    },
    {
     "data": {
      "text/plain": [
       "[0.6674900650978088, 0.686274528503418]"
      ]
     },
     "execution_count": 10,
     "metadata": {},
     "output_type": "execute_result"
    }
   ],
   "source": [
    "model.evaluate(val_generator)"
   ]
  },
  {
   "cell_type": "code",
   "execution_count": 11,
   "id": "0301a7b3",
   "metadata": {},
   "outputs": [
    {
     "data": {
      "image/png": "[encoded data removed]",
      "text/plain": [
       "<Figure size 432x288 with 1 Axes>"
      ]
     },
     "metadata": {
      "needs_background": "light"
     },
     "output_type": "display_data"
    },
    {
     "data": {
      "image/png": "[encoded data removed]",
      "text/plain": [
       "<Figure size 432x288 with 1 Axes>"
      ]
     },
     "metadata": {
      "needs_background": "light"
     },
     "output_type": "display_data"
    }
   ],
   "source": [
    "# Plot results\n",
    "import matplotlib.pyplot as plt\n",
    "\n",
    "acc = history.history['accuracy']\n",
    "val_acc = history.history['val_accuracy']\n",
    "loss = history.history['loss']\n",
    "val_loss = history.history['val_loss']\n",
    "\n",
    "epochs = range(1, len(acc) + 1)\n",
    "\n",
    "plt.plot(epochs, acc, 'bo', label = 'Training Accuracy')\n",
    "plt.plot(epochs, val_acc, 'b', label = 'Validation Accuracy')\n",
    "plt.title('Training and Validation Accuracy')\n",
    "plt.legend()\n",
    "plt.figure()\n",
    "\n",
    "plt.plot(epochs, loss, 'bo', label = 'Training loss')\n",
    "plt.plot(epochs, val_loss, 'b', label = 'Validation Loss')\n",
    "plt.title('Training and Validation Loss')\n",
    "plt.legend()\n",
    "\n",
    "plt.show()"
   ]
  },
  {
   "cell_type": "code",
   "execution_count": 12,
   "id": "6b6e43e4",
   "metadata": {},
   "outputs": [
    {
     "name": "stdout",
     "output_type": "stream",
     "text": [
      "205/205 [==============================] - 15s 36ms/step\n",
      "                 Filename  Prediction\n",
      "0     real\\real_00026.jpg    0.809420\n",
      "1     real\\real_00036.jpg    0.917419\n",
      "2     real\\real_00037.jpg    0.886940\n",
      "3     real\\real_00044.jpg    0.907431\n",
      "4     real\\real_00051.jpg    0.554724\n",
      "..                    ...         ...\n",
      "200  fake\\mid_73_1110.jpg    0.644661\n",
      "201  fake\\mid_77_1110.jpg    0.321129\n",
      "202  fake\\mid_85_0011.jpg    0.731756\n",
      "203  fake\\mid_88_1110.jpg    0.203194\n",
      "204  fake\\mid_89_1111.jpg    0.276860\n",
      "\n",
      "[205 rows x 2 columns]\n"
     ]
    }
   ],
   "source": [
    "# load the saved model that is considered the best\n",
    "best_model = load_model(os.path.join(checkpoint_filepath, 'best_model.h5'))\n",
    "\n",
    "# Generate predictions\n",
    "test_generator.reset()\n",
    "\n",
    "preds = best_model.predict(\n",
    "    test_generator,\n",
    "    verbose = 1\n",
    ")\n",
    "\n",
    "test_results = pd.DataFrame({\n",
    "    \"Filename\": test_generator.filenames,\n",
    "    \"Prediction\": preds.flatten()\n",
    "})\n",
    "print(test_results)"
   ]
  },
  {
   "cell_type": "code",
   "execution_count": null,
   "id": "e6c70576",
   "metadata": {},
   "outputs": [],
   "source": []
  }
 ],
 "metadata": {
  "kernelspec": {
   "display_name": "Python 3",
   "language": "python",
   "name": "python3"
  },
  "language_info": {
   "codemirror_mode": {
    "name": "ipython",
    "version": 3
   },
   "file_extension": ".py",
   "mimetype": "text/x-python",
   "name": "python",
   "nbconvert_exporter": "python",
   "pygments_lexer": "ipython3",
   "version": "3.10.4"
  }
 },
 "nbformat": 4,
 "nbformat_minor": 5
}
