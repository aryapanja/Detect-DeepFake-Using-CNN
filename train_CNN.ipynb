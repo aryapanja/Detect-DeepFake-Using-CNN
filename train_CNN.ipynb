{
 "cells": [
  {
   "cell_type": "code",
   "execution_count": 8,
   "id": "05b10fe4",
   "metadata": {},
   "outputs": [],
   "source": [
    "import json\n",
    "import os\n",
    "from distutils.dir_util import copy_tree\n",
    "import shutil\n",
    "import pandas as pd\n",
    "import tensorflow as tf\n",
    "from tensorflow.keras import backend as K\n"
   ]
  },
  {
   "cell_type": "code",
   "execution_count": 9,
   "id": "8ff5ee9e",
   "metadata": {},
   "outputs": [],
   "source": [
    "\n",
    "from tensorflow.keras.preprocessing.image import ImageDataGenerator\n",
    "from tensorflow.keras import applications\n",
    "from efficientnet.tfkeras import EfficientNetB0 #EfficientNetB1, EfficientNetB2, EfficientNetB3, EfficientNetB4, EfficientNetB5, EfficientNetB6, EfficientNetB7\n",
    "from tensorflow.keras.models import Sequential\n",
    "from tensorflow.keras.layers import Dense, Dropout, Flatten\n",
    "from tensorflow.keras.optimizers import Adam\n",
    "from tensorflow.keras.callbacks import EarlyStopping, ModelCheckpoint\n",
    "from tensorflow.keras.models import load_model"
   ]
  },
  {
   "cell_type": "code",
   "execution_count": 10,
   "id": "f4554fd2",
   "metadata": {},
   "outputs": [],
   "source": [
    "dataset_path = './split_dataset/'\n",
    "\n",
    "def get_filename_only(file_path):\n",
    "    file_basename = os.path.basename(file_path)\n",
    "    filename_only = file_basename.split('.')[0]\n",
    "    return filename_only"
   ]
  },
  {
   "cell_type": "code",
   "execution_count": 11,
   "id": "5696fad7",
   "metadata": {},
   "outputs": [
    {
     "name": "stdout",
     "output_type": "stream",
     "text": [
      "Found 1632 images belonging to 2 classes.\n",
      "Found 204 images belonging to 2 classes.\n",
      "Found 205 images belonging to 2 classes.\n"
     ]
    }
   ],
   "source": [
    "input_size = 128\n",
    "batch_size_num = 32\n",
    "train_path = os.path.join(dataset_path, 'train')\n",
    "val_path = os.path.join(dataset_path, 'val')\n",
    "test_path = os.path.join(dataset_path, 'test')\n",
    "\n",
    "train_datagen = ImageDataGenerator(\n",
    "    rescale = 1/255,    #rescale the tensor values to [0,1]\n",
    "    rotation_range = 10,\n",
    "    width_shift_range = 0.1,\n",
    "    height_shift_range = 0.1,\n",
    "    shear_range = 0.2,\n",
    "    zoom_range = 0.1,\n",
    "    horizontal_flip = True,\n",
    "    fill_mode = 'nearest'\n",
    ")\n",
    "\n",
    "train_generator = train_datagen.flow_from_directory(\n",
    "    directory = train_path,\n",
    "    target_size = (input_size, input_size),\n",
    "    color_mode = \"rgb\",\n",
    "    class_mode = \"binary\",  #\"categorical\", \"binary\", \"sparse\", \"input\"\n",
    "    batch_size = batch_size_num,\n",
    "    shuffle = True\n",
    "    #save_to_dir = tmp_debug_path\n",
    ")\n",
    "\n",
    "val_datagen = ImageDataGenerator(\n",
    "    rescale = 1/255    #rescale the tensor values to [0,1]\n",
    ")\n",
    "\n",
    "val_generator = val_datagen.flow_from_directory(\n",
    "    directory = val_path,\n",
    "    target_size = (input_size, input_size),\n",
    "    color_mode = \"rgb\",\n",
    "    class_mode = \"binary\",  #\"categorical\", \"binary\", \"sparse\", \"input\"\n",
    "    batch_size = batch_size_num,\n",
    "    shuffle = True\n",
    "    #save_to_dir = tmp_debug_path\n",
    ")\n",
    "\n",
    "test_datagen = ImageDataGenerator(\n",
    "    rescale = 1/255    #rescale the tensor values to [0,1]\n",
    ")\n",
    "\n",
    "test_generator = test_datagen.flow_from_directory(\n",
    "    directory = test_path,\n",
    "    classes=['real', 'fake'],\n",
    "    target_size = (input_size, input_size),\n",
    "    color_mode = \"rgb\",\n",
    "    class_mode = None,\n",
    "    batch_size = 1,\n",
    "    shuffle = False\n",
    ")"
   ]
  },
  {
   "cell_type": "code",
   "execution_count": 12,
   "id": "e45e99ae",
   "metadata": {},
   "outputs": [
    {
     "name": "stdout",
     "output_type": "stream",
     "text": [
      "Model: \"sequential\"\n",
      "_________________________________________________________________\n",
      " Layer (type)                Output Shape              Param #   \n",
      "=================================================================\n",
      " efficientnet-b0 (Functional  (None, 1280)             4049564   \n",
      " )                                                               \n",
      "                                                                 \n",
      " dense (Dense)               (None, 512)               655872    \n",
      "                                                                 \n",
      " dropout (Dropout)           (None, 512)               0         \n",
      "                                                                 \n",
      " dense_1 (Dense)             (None, 128)               65664     \n",
      "                                                                 \n",
      " dropout_1 (Dropout)         (None, 128)               0         \n",
      "                                                                 \n",
      " dense_2 (Dense)             (None, 64)                8256      \n",
      "                                                                 \n",
      " dense_3 (Dense)             (None, 1)                 65        \n",
      "                                                                 \n",
      " flatten (Flatten)           (None, 1)                 0         \n",
      "                                                                 \n",
      "=================================================================\n",
      "Total params: 4,779,421\n",
      "Trainable params: 4,737,405\n",
      "Non-trainable params: 42,016\n",
      "_________________________________________________________________\n"
     ]
    }
   ],
   "source": [
    "# Train a CNN classifier\n",
    "efficient_net = EfficientNetB0(\n",
    "    weights = 'imagenet',\n",
    "    input_shape = (input_size, input_size, 3),\n",
    "    include_top = False,\n",
    "    pooling = 'max'\n",
    ")\n",
    "\n",
    "\n",
    "\n",
    "model = Sequential()\n",
    "model.add(efficient_net)\n",
    "model.add(Dense(units = 512, activation = 'relu'))\n",
    "model.add(Dropout(0.5))\n",
    "model.add(Dense(units = 128, activation = 'relu'))\n",
    "model.add(Dropout(0.5))\n",
    "model.add(Dense(units = 64,activation='relu'))\n",
    "model.add(Dense(units = 1, activation = 'sigmoid'))\n",
    "model.add(Flatten())\n",
    "\n",
    "model.summary()\n",
    "\n"
   ]
  },
  {
   "cell_type": "code",
   "execution_count": 13,
   "id": "b2da0dd9",
   "metadata": {},
   "outputs": [
    {
     "data": {
      "text/plain": [
       "{'fake': 0, 'real': 1}"
      ]
     },
     "execution_count": 13,
     "metadata": {},
     "output_type": "execute_result"
    }
   ],
   "source": [
    "train_generator.class_indices"
   ]
  },
  {
   "cell_type": "code",
   "execution_count": 14,
   "id": "15eff94d",
   "metadata": {},
   "outputs": [
    {
     "name": "stdout",
     "output_type": "stream",
     "text": [
      "Creating Directory: .\\tmp_checkpoint\n",
      "Epoch 1/20\n",
      "51/51 [==============================] - ETA: 0s - loss: 0.9941 - accuracy: 0.4859\n",
      "Epoch 1: val_loss improved from inf to 0.67971, saving model to .\\tmp_checkpoint\\best_model.h5\n",
      "51/51 [==============================] - 133s 2s/step - loss: 0.9941 - accuracy: 0.4859 - val_loss: 0.6797 - val_accuracy: 0.5882\n",
      "Epoch 2/20\n",
      "51/51 [==============================] - ETA: 0s - loss: 0.8181 - accuracy: 0.5306\n",
      "Epoch 2: val_loss did not improve from 0.67971\n",
      "51/51 [==============================] - 120s 2s/step - loss: 0.8181 - accuracy: 0.5306 - val_loss: 0.6831 - val_accuracy: 0.5294\n",
      "Epoch 3/20\n",
      "51/51 [==============================] - ETA: 0s - loss: 0.7577 - accuracy: 0.5484\n",
      "Epoch 3: val_loss did not improve from 0.67971\n",
      "51/51 [==============================] - 109s 2s/step - loss: 0.7577 - accuracy: 0.5484 - val_loss: 0.6836 - val_accuracy: 0.5343\n",
      "Epoch 4/20\n",
      "51/51 [==============================] - ETA: 0s - loss: 0.7581 - accuracy: 0.5447\n",
      "Epoch 4: val_loss did not improve from 0.67971\n",
      "51/51 [==============================] - 110s 2s/step - loss: 0.7581 - accuracy: 0.5447 - val_loss: 0.6812 - val_accuracy: 0.5637\n",
      "Epoch 5/20\n",
      "51/51 [==============================] - ETA: 0s - loss: 0.7323 - accuracy: 0.5496\n",
      "Epoch 5: val_loss improved from 0.67971 to 0.67380, saving model to .\\tmp_checkpoint\\best_model.h5\n",
      "51/51 [==============================] - 110s 2s/step - loss: 0.7323 - accuracy: 0.5496 - val_loss: 0.6738 - val_accuracy: 0.5980\n",
      "Epoch 6/20\n",
      "51/51 [==============================] - ETA: 0s - loss: 0.7192 - accuracy: 0.5545\n",
      "Epoch 6: val_loss improved from 0.67380 to 0.66349, saving model to .\\tmp_checkpoint\\best_model.h5\n",
      "51/51 [==============================] - 110s 2s/step - loss: 0.7192 - accuracy: 0.5545 - val_loss: 0.6635 - val_accuracy: 0.6324\n",
      "Epoch 7/20\n",
      "51/51 [==============================] - ETA: 0s - loss: 0.6810 - accuracy: 0.5821\n",
      "Epoch 7: val_loss improved from 0.66349 to 0.65997, saving model to .\\tmp_checkpoint\\best_model.h5\n",
      "51/51 [==============================] - 110s 2s/step - loss: 0.6810 - accuracy: 0.5821 - val_loss: 0.6600 - val_accuracy: 0.6422\n",
      "Epoch 8/20\n",
      "51/51 [==============================] - ETA: 0s - loss: 0.6572 - accuracy: 0.6232\n",
      "Epoch 8: val_loss improved from 0.65997 to 0.64491, saving model to .\\tmp_checkpoint\\best_model.h5\n",
      "51/51 [==============================] - 111s 2s/step - loss: 0.6572 - accuracy: 0.6232 - val_loss: 0.6449 - val_accuracy: 0.6520\n",
      "Epoch 9/20\n",
      "51/51 [==============================] - ETA: 0s - loss: 0.6527 - accuracy: 0.6440\n",
      "Epoch 9: val_loss improved from 0.64491 to 0.63384, saving model to .\\tmp_checkpoint\\best_model.h5\n",
      "51/51 [==============================] - 111s 2s/step - loss: 0.6527 - accuracy: 0.6440 - val_loss: 0.6338 - val_accuracy: 0.6471\n",
      "Epoch 10/20\n",
      "51/51 [==============================] - ETA: 0s - loss: 0.6430 - accuracy: 0.6495\n",
      "Epoch 10: val_loss improved from 0.63384 to 0.62447, saving model to .\\tmp_checkpoint\\best_model.h5\n",
      "51/51 [==============================] - 110s 2s/step - loss: 0.6430 - accuracy: 0.6495 - val_loss: 0.6245 - val_accuracy: 0.6618\n",
      "Epoch 11/20\n",
      "51/51 [==============================] - ETA: 0s - loss: 0.6115 - accuracy: 0.6679\n",
      "Epoch 11: val_loss did not improve from 0.62447\n",
      "51/51 [==============================] - 111s 2s/step - loss: 0.6115 - accuracy: 0.6679 - val_loss: 0.6251 - val_accuracy: 0.6667\n",
      "Epoch 12/20\n",
      "51/51 [==============================] - ETA: 0s - loss: 0.5890 - accuracy: 0.6998\n",
      "Epoch 12: val_loss did not improve from 0.62447\n",
      "51/51 [==============================] - 110s 2s/step - loss: 0.5890 - accuracy: 0.6998 - val_loss: 0.6252 - val_accuracy: 0.6716\n",
      "Epoch 13/20\n",
      "51/51 [==============================] - ETA: 0s - loss: 0.5697 - accuracy: 0.7163\n",
      "Epoch 13: val_loss improved from 0.62447 to 0.62125, saving model to .\\tmp_checkpoint\\best_model.h5\n",
      "51/51 [==============================] - 111s 2s/step - loss: 0.5697 - accuracy: 0.7163 - val_loss: 0.6212 - val_accuracy: 0.6863\n",
      "Epoch 14/20\n",
      "51/51 [==============================] - ETA: 0s - loss: 0.5504 - accuracy: 0.7298\n",
      "Epoch 14: val_loss did not improve from 0.62125\n",
      "51/51 [==============================] - 112s 2s/step - loss: 0.5504 - accuracy: 0.7298 - val_loss: 0.6464 - val_accuracy: 0.6961\n",
      "Epoch 15/20\n",
      "51/51 [==============================] - ETA: 0s - loss: 0.5251 - accuracy: 0.7335\n",
      "Epoch 15: val_loss did not improve from 0.62125\n",
      "51/51 [==============================] - 111s 2s/step - loss: 0.5251 - accuracy: 0.7335 - val_loss: 0.6944 - val_accuracy: 0.6667\n",
      "Epoch 16/20\n",
      "51/51 [==============================] - ETA: 0s - loss: 0.4758 - accuracy: 0.7659\n",
      "Epoch 16: val_loss did not improve from 0.62125\n",
      "51/51 [==============================] - 111s 2s/step - loss: 0.4758 - accuracy: 0.7659 - val_loss: 0.6917 - val_accuracy: 0.7059\n",
      "Epoch 17/20\n",
      "51/51 [==============================] - ETA: 0s - loss: 0.4592 - accuracy: 0.7800\n",
      "Epoch 17: val_loss did not improve from 0.62125\n",
      "51/51 [==============================] - 111s 2s/step - loss: 0.4592 - accuracy: 0.7800 - val_loss: 0.7513 - val_accuracy: 0.6618\n",
      "Epoch 18/20\n",
      "51/51 [==============================] - ETA: 0s - loss: 0.4470 - accuracy: 0.8027\n",
      "Epoch 18: val_loss did not improve from 0.62125\n",
      "51/51 [==============================] - 111s 2s/step - loss: 0.4470 - accuracy: 0.8027 - val_loss: 0.7604 - val_accuracy: 0.6912\n",
      "Epoch 18: early stopping\n"
     ]
    }
   ],
   "source": [
    "# Compile model\n",
    "model.compile(optimizer = Adam(learning_rate=0.0001), loss='binary_crossentropy', metrics=['accuracy'])\n",
    "\n",
    "checkpoint_filepath = '.\\\\tmp_checkpoint'\n",
    "print('Creating Directory: ' + checkpoint_filepath)\n",
    "os.makedirs(checkpoint_filepath, exist_ok=True)\n",
    "\n",
    "custom_callbacks = [\n",
    "    EarlyStopping(\n",
    "        monitor = 'val_loss',\n",
    "        mode = 'min',\n",
    "        patience = 5,\n",
    "        verbose = 1\n",
    "    ),\n",
    "    ModelCheckpoint(\n",
    "        filepath = os.path.join(checkpoint_filepath, 'best_model.h5'),\n",
    "        monitor = 'val_loss',\n",
    "        mode = 'min',\n",
    "        verbose = 1,\n",
    "        save_best_only = True\n",
    "    )\n",
    "]\n",
    "\n",
    "# Train network\n",
    "num_epochs = 20\n",
    "history = model.fit(\n",
    "    train_generator,\n",
    "    epochs = num_epochs,\n",
    "    steps_per_epoch = len(train_generator),\n",
    "    validation_data = val_generator,\n",
    "    validation_steps = len(val_generator),\n",
    "    callbacks = custom_callbacks\n",
    ")\n",
    "\n",
    "# print(history.history)"
   ]
  },
  {
   "cell_type": "code",
   "execution_count": 15,
   "id": "22456e9b",
   "metadata": {},
   "outputs": [
    {
     "name": "stdout",
     "output_type": "stream",
     "text": [
      "51/51 [==============================] - 41s 799ms/step - loss: 0.3299 - accuracy: 0.8756\n"
     ]
    },
    {
     "data": {
      "text/plain": [
       "[0.3298722803592682, 0.875612735748291]"
      ]
     },
     "execution_count": 15,
     "metadata": {},
     "output_type": "execute_result"
    }
   ],
   "source": [
    "model.evaluate(train_generator)"
   ]
  },
  {
   "cell_type": "code",
   "execution_count": 16,
   "id": "5065999b",
   "metadata": {},
   "outputs": [
    {
     "name": "stdout",
     "output_type": "stream",
     "text": [
      "7/7 [==============================] - 4s 594ms/step - loss: 0.7604 - accuracy: 0.6912\n"
     ]
    },
    {
     "data": {
      "text/plain": [
       "[0.7604234218597412, 0.6911764740943909]"
      ]
     },
     "execution_count": 16,
     "metadata": {},
     "output_type": "execute_result"
    }
   ],
   "source": [
    "model.evaluate(val_generator)"
   ]
  },
  {
   "cell_type": "code",
   "execution_count": 17,
   "id": "0301a7b3",
   "metadata": {},
   "outputs": [
    {
     "data": {
      "image/png": "[encoded data removed]",
      "text/plain": [
       "<Figure size 432x288 with 1 Axes>"
      ]
     },
     "metadata": {
      "needs_background": "light"
     },
     "output_type": "display_data"
    },
    {
     "data": {
      "image/png": "[encoded data removed]",
      "text/plain": [
       "<Figure size 432x288 with 1 Axes>"
      ]
     },
     "metadata": {
      "needs_background": "light"
     },
     "output_type": "display_data"
    }
   ],
   "source": [
    "# Plot results\n",
    "import matplotlib.pyplot as plt\n",
    "\n",
    "acc = history.history['accuracy']\n",
    "val_acc = history.history['val_accuracy']\n",
    "loss = history.history['loss']\n",
    "val_loss = history.history['val_loss']\n",
    "\n",
    "epochs = range(1, len(acc) + 1)\n",
    "\n",
    "plt.plot(epochs, acc, 'bo', label = 'Training Accuracy')\n",
    "plt.plot(epochs, val_acc, 'b', label = 'Validation Accuracy')\n",
    "plt.title('Training and Validation Accuracy')\n",
    "plt.legend()\n",
    "plt.figure()\n",
    "\n",
    "plt.plot(epochs, loss, 'bo', label = 'Training loss')\n",
    "plt.plot(epochs, val_loss, 'b', label = 'Validation Loss')\n",
    "plt.title('Training and Validation Loss')\n",
    "plt.legend()\n",
    "\n",
    "plt.show()"
   ]
  },
  {
   "cell_type": "code",
   "execution_count": 18,
   "id": "6b6e43e4",
   "metadata": {},
   "outputs": [
    {
     "name": "stdout",
     "output_type": "stream",
     "text": [
      "205/205 [==============================] - 7s 29ms/step\n",
      "                 Filename  Prediction\n",
      "0     real\\real_00026.jpg    0.824252\n",
      "1     real\\real_00036.jpg    0.686093\n",
      "2     real\\real_00037.jpg    0.662277\n",
      "3     real\\real_00044.jpg    0.917898\n",
      "4     real\\real_00051.jpg    0.563627\n",
      "..                    ...         ...\n",
      "200  fake\\mid_73_1110.jpg    0.699921\n",
      "201  fake\\mid_77_1110.jpg    0.452600\n",
      "202  fake\\mid_85_0011.jpg    0.654686\n",
      "203  fake\\mid_88_1110.jpg    0.258254\n",
      "204  fake\\mid_89_1111.jpg    0.341745\n",
      "\n",
      "[205 rows x 2 columns]\n"
     ]
    }
   ],
   "source": [
    "# load the saved model that is considered the best\n",
    "best_model = load_model(os.path.join(checkpoint_filepath, 'best_model.h5'))\n",
    "\n",
    "# Generate predictions\n",
    "test_generator.reset()\n",
    "\n",
    "preds = best_model.predict(\n",
    "    test_generator,\n",
    "    verbose = 1\n",
    ")\n",
    "\n",
    "test_results = pd.DataFrame({\n",
    "    \"Filename\": test_generator.filenames,\n",
    "    \"Prediction\": preds.flatten()\n",
    "})\n",
    "print(test_results)"
   ]
  },
  {
   "cell_type": "code",
   "execution_count": null,
   "id": "e6c70576",
   "metadata": {},
   "outputs": [],
   "source": []
  }
 ],
 "metadata": {
  "kernelspec": {
   "display_name": "Python 3",
   "language": "python",
   "name": "python3"
  },
  "language_info": {
   "codemirror_mode": {
    "name": "ipython",
    "version": 3
   },
   "file_extension": ".py",
   "mimetype": "text/x-python",
   "name": "python",
   "nbconvert_exporter": "python",
   "pygments_lexer": "ipython3",
   "version": "3.9.6"
  }
 },
 "nbformat": 4,
 "nbformat_minor": 5
}
